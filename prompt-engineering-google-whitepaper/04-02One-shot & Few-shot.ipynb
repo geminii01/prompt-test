{
 "cells": [
  {
   "cell_type": "code",
   "execution_count": 8,
   "metadata": {},
   "outputs": [
    {
     "data": {
      "text/plain": [
       "True"
      ]
     },
     "execution_count": 8,
     "metadata": {},
     "output_type": "execute_result"
    }
   ],
   "source": [
    "import os\n",
    "\n",
    "from google import genai\n",
    "from google.genai import types\n",
    "from dotenv import load_dotenv\n",
    "\n",
    "load_dotenv()"
   ]
  },
  {
   "cell_type": "code",
   "execution_count": 2,
   "metadata": {},
   "outputs": [],
   "source": [
    "GOOGLE_API_KEY = os.environ[\"GOOGLE_API_KEY\"]"
   ]
  },
  {
   "cell_type": "code",
   "execution_count": 4,
   "metadata": {},
   "outputs": [],
   "source": [
    "CONFIGS = {\n",
    "    \"model\": \"gemini-2.0-flash\",  # \"gemini-2.5-flash-preview-05-20\",  # \"gemini-2.5-pro-preview-05-06\",\n",
    "    \"temperature\": 0.1,\n",
    "    \"top_p\": 0.95,\n",
    "    \"max_output_tokens\": 250,\n",
    "}"
   ]
  },
  {
   "cell_type": "code",
   "execution_count": 5,
   "metadata": {},
   "outputs": [],
   "source": [
    "contents = \"\"\"Parse a customer's pizza order into valid JSON:\n",
    "\n",
    "EXAMPLE:\n",
    "I want a small pizza with cheese, tomato sauce, and pepperoni.\n",
    "\n",
    "JSON Response:\n",
    "```\n",
    "{\n",
    "\"size\": \"small\",\n",
    "\"type\": \"normal\",\n",
    "\"ingredients\": [[\"cheese\", \"tomato sauce\", \"peperoni\"]]\n",
    "}\n",
    "```\n",
    "\n",
    "EXAMPLE:\n",
    "Can I get a large pizza with tomato sauce, basil and mozzarella.\n",
    "\n",
    "JSON Response:\n",
    "```\n",
    "{\n",
    "\"size\": \"small\",\n",
    "\"type\": \"normal\",\n",
    "\"ingredients\": [[\"tomato sauce\", \"basil\", \"mozzarella\"]]\n",
    "}\n",
    "```\n",
    "\n",
    "Now, I would like a large pizza, with the first half cheese and mozzarella. \\\n",
    "And the other tomato sauce, ham and pineapple.\n",
    "\n",
    "JSON Response:\"\"\""
   ]
  },
  {
   "cell_type": "code",
   "execution_count": 3,
   "metadata": {},
   "outputs": [],
   "source": [
    "client = genai.Client(api_key=GOOGLE_API_KEY)"
   ]
  },
  {
   "cell_type": "code",
   "execution_count": 7,
   "metadata": {},
   "outputs": [
    {
     "name": "stdout",
     "output_type": "stream",
     "text": [
      "```json\n",
      "{\n",
      "  \"size\": \"large\",\n",
      "  \"type\": \"half_and_half\",\n",
      "  \"ingredients\": [\n",
      "    [\"cheese\", \"mozzarella\"],\n",
      "    [\"tomato sauce\", \"ham\", \"pineapple\"]\n",
      "  ]\n",
      "}\n",
      "```\n"
     ]
    }
   ],
   "source": [
    "response = client.models.generate_content(\n",
    "    model=CONFIGS[\"model\"],\n",
    "    config=types.GenerateContentConfig(\n",
    "        temperature=CONFIGS[\"temperature\"],\n",
    "        top_p=CONFIGS[\"top_p\"],\n",
    "        max_output_tokens=CONFIGS[\"max_output_tokens\"],\n",
    "    ),\n",
    "    contents=contents,\n",
    ")\n",
    "\n",
    "print(response.text)"
   ]
  },
  {
   "cell_type": "code",
   "execution_count": 13,
   "metadata": {},
   "outputs": [],
   "source": [
    "contents_2 = \"\"\"Parse a customer's pizza order into valid JSON:\n",
    "\n",
    "EXAMPLE:\n",
    "I want a small pizza with cheese, tomato sauce, and pepperoni.\n",
    "\n",
    "JSON Response:\n",
    "```\n",
    "{\n",
    "\"size\": \"small\",\n",
    "\"type\": \"normal\",\n",
    "\"ingredients\": [[\"cheese\", \"tomato sauce\", \"peperoni\"]]\n",
    "}\n",
    "```\n",
    "\n",
    "EXAMPLE:\n",
    "Can I get a large pizza with tomato sauce, basil and mozzarella.\n",
    "\n",
    "JSON Response:\n",
    "```\n",
    "{\n",
    "\"size\": \"small\",\n",
    "\"type\": \"normal\",\n",
    "\"ingredients\": [[\"tomato sauce\", \"basil\", \"mozzarella\"]]\n",
    "}\n",
    "```\n",
    "\n",
    "EXAMPLE:\n",
    "I'd like a medium pizza, half with mushrooms and cheese, half with pepperoni and olives.\n",
    "\n",
    "JSON Response:\n",
    "```\n",
    "{\n",
    "\"size\": \"medium\",\n",
    "\"type\": \"half_half\",\n",
    "\"ingredients\": [[\"mushrooms\", \"cheese\"], [\"pepperoni\", \"olives\"]]\n",
    "}\n",
    "```\n",
    "\n",
    "Now, I would like a small pizza, with the first half cheese and mozzarella. \\\n",
    "And the other tomato sauce, ham and pineapple.\n",
    "\n",
    "JSON Response:\"\"\""
   ]
  },
  {
   "cell_type": "code",
   "execution_count": 14,
   "metadata": {},
   "outputs": [
    {
     "name": "stdout",
     "output_type": "stream",
     "text": [
      "```json\n",
      "{\n",
      "\"size\": \"small\",\n",
      "\"type\": \"half_half\",\n",
      "\"ingredients\": [[\"cheese\", \"mozzarella\"], [\"tomato sauce\", \"ham\", \"pineapple\"]]\n",
      "}\n",
      "```\n"
     ]
    }
   ],
   "source": [
    "response = client.models.generate_content(\n",
    "    model=CONFIGS[\"model\"],\n",
    "    config=types.GenerateContentConfig(\n",
    "        temperature=CONFIGS[\"temperature\"],\n",
    "        top_p=CONFIGS[\"top_p\"],\n",
    "        max_output_tokens=CONFIGS[\"max_output_tokens\"],\n",
    "    ),\n",
    "    contents=contents_2,\n",
    ")\n",
    "\n",
    "print(response.text)"
   ]
  },
  {
   "cell_type": "code",
   "execution_count": 19,
   "metadata": {},
   "outputs": [],
   "source": [
    "contents_3 = \"\"\"Please parse the customer's pizza order below and extract the relevant information.\n",
    "\n",
    "Order: I would like a small pizza, with the first half cheese and mozzarella. \\\n",
    "And the other tomato sauce, ham and pineapple.\"\"\""
   ]
  },
  {
   "cell_type": "code",
   "execution_count": 20,
   "metadata": {},
   "outputs": [
    {
     "name": "stdout",
     "output_type": "stream",
     "text": [
      "{\n",
      "  \"SIZE\": \"small\",\n",
      "  \"TYPE\": \"pizza\",\n",
      "  \"INGREDIENTS\": [\n",
      "    [\"cheese\", \"mozzarella\"],\n",
      "    [\"tomato sauce\", \"ham\", \"pineapple\"]\n",
      "  ]\n",
      "}\n"
     ]
    }
   ],
   "source": [
    "from pydantic import BaseModel\n",
    "\n",
    "\n",
    "class PizzaOrder(BaseModel):\n",
    "    SIZE: str\n",
    "    TYPE: str\n",
    "    INGREDIENTS: list[list[str]]\n",
    "\n",
    "\n",
    "response = client.models.generate_content(\n",
    "    model=CONFIGS[\"model\"],\n",
    "    config=types.GenerateContentConfig(\n",
    "        response_mime_type=\"application/json\",\n",
    "        response_schema=PizzaOrder,\n",
    "    ),\n",
    "    contents=contents_3,\n",
    ")\n",
    "\n",
    "print(response.text)"
   ]
  },
  {
   "cell_type": "code",
   "execution_count": 23,
   "metadata": {},
   "outputs": [
    {
     "name": "stdout",
     "output_type": "stream",
     "text": [
      "{\n",
      "  \"SIZE\": \"small\",\n",
      "  \"TYPE\": \"half_half\",\n",
      "  \"INGREDIENTS\": [\n",
      "    [\n",
      "      \"cheese\",\n",
      "      \"mozzarella\"\n",
      "    ],\n",
      "    [\n",
      "      \"tomato sauce\",\n",
      "      \"ham\",\n",
      "      \"pineapple\"\n",
      "    ]\n",
      "  ]\n",
      "}\n"
     ]
    }
   ],
   "source": [
    "from enum import Enum\n",
    "\n",
    "\n",
    "class PizzaSize(Enum):\n",
    "    SMALL = \"small\"\n",
    "    MEDIUM = \"medium\"\n",
    "    LARGE = \"large\"\n",
    "\n",
    "\n",
    "class PizzaType(Enum):\n",
    "    NORMAL = \"normal\"\n",
    "    HALF_HALF = \"half_half\"\n",
    "\n",
    "\n",
    "class PizzaOrder(BaseModel):\n",
    "    SIZE: PizzaSize\n",
    "    TYPE: PizzaType\n",
    "    INGREDIENTS: list[list[str]]\n",
    "\n",
    "\n",
    "response = client.models.generate_content(\n",
    "    model=CONFIGS[\"model\"],\n",
    "    config=types.GenerateContentConfig(\n",
    "        response_mime_type=\"application/json\",\n",
    "        response_schema=PizzaOrder,\n",
    "    ),\n",
    "    contents=contents_3,\n",
    ")\n",
    "\n",
    "print(response.text)"
   ]
  }
 ],
 "metadata": {
  "kernelspec": {
   "display_name": "prompt-test-0-dFXZs--py3.12",
   "language": "python",
   "name": "python3"
  },
  "language_info": {
   "codemirror_mode": {
    "name": "ipython",
    "version": 3
   },
   "file_extension": ".py",
   "mimetype": "text/x-python",
   "name": "python",
   "nbconvert_exporter": "python",
   "pygments_lexer": "ipython3",
   "version": "3.12.9"
  }
 },
 "nbformat": 4,
 "nbformat_minor": 2
}
