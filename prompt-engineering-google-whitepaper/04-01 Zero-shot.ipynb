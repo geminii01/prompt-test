{
 "cells": [
  {
   "cell_type": "code",
   "execution_count": 1,
   "metadata": {},
   "outputs": [
    {
     "data": {
      "text/plain": [
       "True"
      ]
     },
     "execution_count": 1,
     "metadata": {},
     "output_type": "execute_result"
    }
   ],
   "source": [
    "import os\n",
    "\n",
    "from google import genai\n",
    "from google.genai import types\n",
    "from dotenv import load_dotenv\n",
    "\n",
    "load_dotenv()"
   ]
  },
  {
   "cell_type": "code",
   "execution_count": 2,
   "metadata": {},
   "outputs": [],
   "source": [
    "GOOGLE_API_KEY = os.environ[\"GOOGLE_API_KEY\"]"
   ]
  },
  {
   "cell_type": "code",
   "execution_count": 3,
   "metadata": {},
   "outputs": [],
   "source": [
    "client = genai.Client(api_key=GOOGLE_API_KEY)"
   ]
  },
  {
   "cell_type": "code",
   "execution_count": 4,
   "metadata": {},
   "outputs": [],
   "source": [
    "CONFIGS = {\n",
    "    \"model\": \"gemini-2.0-flash\",  # \"gemini-2.5-flash-preview-05-20\",  # \"gemini-2.5-pro-preview-05-06\",\n",
    "    \"temperature\": 0.1,\n",
    "    \"top_p\": 0.95,\n",
    "    \"max_output_tokens\": 10,\n",
    "}"
   ]
  },
  {
   "cell_type": "code",
   "execution_count": null,
   "metadata": {},
   "outputs": [],
   "source": [
    "contents = \"\"\"Classify movie reviews as POSITIVE, NEUTRAL or NEGATIVE.\n",
    "Review: 'Her' is a disturbing study revealing the direction humanity is headed \\\n",
    "if AI is allowed to keep evolving, unchecked. \\\n",
    "I wish there were more movies like this masterpiece.\n",
    "Sentiment:\"\"\""
   ]
  },
  {
   "cell_type": "code",
   "execution_count": 9,
   "metadata": {},
   "outputs": [
    {
     "name": "stdout",
     "output_type": "stream",
     "text": [
      "POSITIVE\n",
      "\n"
     ]
    }
   ],
   "source": [
    "response = client.models.generate_content(\n",
    "    model=CONFIGS[\"model\"],\n",
    "    config=types.GenerateContentConfig(\n",
    "        temperature=CONFIGS[\"temperature\"],\n",
    "        top_p=CONFIGS[\"top_p\"],\n",
    "        max_output_tokens=CONFIGS[\"max_output_tokens\"],\n",
    "    ),\n",
    "    contents=contents,\n",
    ")\n",
    "\n",
    "print(response.text)"
   ]
  },
  {
   "cell_type": "code",
   "execution_count": 10,
   "metadata": {},
   "outputs": [
    {
     "name": "stdout",
     "output_type": "stream",
     "text": [
      "Positive\n"
     ]
    }
   ],
   "source": [
    "from enum import Enum\n",
    "\n",
    "\n",
    "class Sentiment(Enum):\n",
    "    POSITIVE = \"Positive\"\n",
    "    NEUTRAL = \"Neutral\"\n",
    "    NEGATIVE = \"Negative\"\n",
    "\n",
    "\n",
    "response = client.models.generate_content(\n",
    "    model=CONFIGS[\"model\"],\n",
    "    config=types.GenerateContentConfig(\n",
    "        temperature=CONFIGS[\"temperature\"],\n",
    "        top_p=CONFIGS[\"top_p\"],\n",
    "        response_mime_type=\"text/x.enum\",\n",
    "        response_schema=Sentiment,\n",
    "    ),\n",
    "    contents=contents,\n",
    ")\n",
    "\n",
    "print(response.text)"
   ]
  }
 ],
 "metadata": {
  "kernelspec": {
   "display_name": "prompt-test-0-dFXZs--py3.12",
   "language": "python",
   "name": "python3"
  },
  "language_info": {
   "codemirror_mode": {
    "name": "ipython",
    "version": 3
   },
   "file_extension": ".py",
   "mimetype": "text/x-python",
   "name": "python",
   "nbconvert_exporter": "python",
   "pygments_lexer": "ipython3",
   "version": "3.12.9"
  }
 },
 "nbformat": 4,
 "nbformat_minor": 2
}
